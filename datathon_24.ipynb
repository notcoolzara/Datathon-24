{
  "nbformat": 4,
  "nbformat_minor": 0,
  "metadata": {
    "colab": {
      "provenance": []
    },
    "kernelspec": {
      "name": "python3",
      "display_name": "Python 3"
    },
    "language_info": {
      "name": "python"
    }
  },
  "cells": [
    {
      "cell_type": "code",
      "execution_count": null,
      "metadata": {
        "id": "5v77bJ09T24D"
      },
      "outputs": [],
      "source": [
        "# Import necessary libraries\n",
        "import pandas as pd\n",
        "from sklearn.ensemble import RandomForestRegressor\n",
        "from sklearn.preprocessing import StandardScaler, LabelEncoder\n",
        "from sklearn.metrics import mean_squared_error, r2_score\n",
        "from sklearn.model_selection import train_test_split\n",
        "from google.colab import drive"
      ]
    },
    {
      "cell_type": "code",
      "source": [
        "# Mount Google Drive\n",
        "drive.mount('/content/drive')\n",
        "\n",
        "# Specify the paths to your files\n",
        "train_path = '/content/drive/MyDrive/DATASET/train.csv'\n",
        "test_path = '/content/drive/MyDrive/DATASET/test_x.csv'\n",
        "\n",
        "# Load the datasets\n",
        "train_df = pd.read_csv(train_path)\n",
        "test_df = pd.read_csv(test_path)"
      ],
      "metadata": {
        "colab": {
          "base_uri": "https://localhost:8080/"
        },
        "id": "HH_x-Df1T-Q5",
        "outputId": "ba3dce3f-10d1-4725-f25d-1d9db21d1c13"
      },
      "execution_count": null,
      "outputs": [
        {
          "output_type": "stream",
          "name": "stdout",
          "text": [
            "Drive already mounted at /content/drive; to attempt to forcibly remount, call drive.mount(\"/content/drive\", force_remount=True).\n"
          ]
        },
        {
          "output_type": "stream",
          "name": "stderr",
          "text": [
            "<ipython-input-2-08d58d6d80a3>:9: DtypeWarning: Columns (13,15,19,30,32,37,41,42) have mixed types. Specify dtype option on import or set low_memory=False.\n",
            "  train_df = pd.read_csv(train_path)\n"
          ]
        }
      ]
    },
    {
      "cell_type": "code",
      "source": [
        "# Display the first few rows of the dataset\n",
        "print(train_df.head())"
      ],
      "metadata": {
        "colab": {
          "base_uri": "https://localhost:8080/"
        },
        "id": "xHAom9x3wxpl",
        "outputId": "f8c2eda5-fe94-4a46-c596-268902ae0744"
      },
      "execution_count": null,
      "outputs": [
        {
          "output_type": "stream",
          "name": "stdout",
          "text": [
            "   Basvuru Yili  Degerlendirme Puani Cinsiyet  Dogum Tarihi        Dogum Yeri  \\\n",
            "0          2014                 52.0    Erkek      4/6/1994  Altindag, Ankara   \n",
            "1          2014                 30.0    Erkek     6/11/1993           Üsküdar   \n",
            "2          2014                 18.0    Erkek     1/15/1986            Samsun   \n",
            "3          2014                 40.0    Erkek      6/4/1991        Diyarbakır   \n",
            "4          2014                 24.0    Erkek  2 Kasim 1992   Ankara/Altındağ   \n",
            "\n",
            "  Ikametgah Sehri                    Universite Adi Universite Turu  \\\n",
            "0          Ankara           İHSAN DOĞRAMACI BİLKENT            Özel   \n",
            "1        İstanbul           İHSAN DOĞRAMACI BİLKENT            Özel   \n",
            "2        İstanbul  ULUSLARARASI KIBRIS ÜNİVERSİTESİ            Özel   \n",
            "3        İstanbul       İSTANBUL ŞEHİR ÜNİVERSİTESİ            Özel   \n",
            "4          Ankara          TURGUT ÖZAL ÜNİVERSİTESİ            Özel   \n",
            "\n",
            "   Burslu ise Burs Yuzdesi Burs Aliyor mu?  ... Spor Dalindaki Rolunuz Nedir?  \\\n",
            "0                    100.0            Evet  ...                         Diğer   \n",
            "1                    100.0           Hayır  ...                             0   \n",
            "2                    100.0           Hayır  ...                             0   \n",
            "3                    100.0            Evet  ...                             0   \n",
            "4                    100.0            Evet  ...                             0   \n",
            "\n",
            "  Aktif olarak bir STK üyesi misiniz? Hangi STK'nin Uyesisiniz?  \\\n",
            "0                               Hayır                       NaN   \n",
            "1                               Hayır                       NaN   \n",
            "2                               Hayır                       NaN   \n",
            "3                               Hayır                       NaN   \n",
            "4                               Hayır                       NaN   \n",
            "\n",
            "  Stk Projesine Katildiniz Mi? Girisimcilikle Ilgili Deneyiminiz Var Mi?  \\\n",
            "0                         Evet                                     Hayır   \n",
            "1                         Evet                                      Evet   \n",
            "2                        Hayır                                     Hayır   \n",
            "3                         Evet                                     Hayır   \n",
            "4                        Hayır                                     Hayır   \n",
            "\n",
            "  Girisimcilikle Ilgili Deneyiminizi Aciklayabilir misiniz?  \\\n",
            "0                                                NaN          \n",
            "1  Bilkent Cyberparkta bir şirkette Türkiye nin i...          \n",
            "2                                                NaN          \n",
            "3                                                NaN          \n",
            "4                                                NaN          \n",
            "\n",
            "  Ingilizce Biliyor musunuz? Ingilizce Seviyeniz?  \\\n",
            "0                        NaN                  NaN   \n",
            "1                        NaN                  NaN   \n",
            "2                        NaN                  NaN   \n",
            "3                        NaN                  NaN   \n",
            "4                        NaN                  NaN   \n",
            "\n",
            "  Daha Önceden Mezun Olunduysa, Mezun Olunan Üniversite id  \n",
            "0                                                NaN     0  \n",
            "1                                                NaN     1  \n",
            "2                                                NaN     2  \n",
            "3                                                NaN     3  \n",
            "4                                                NaN     4  \n",
            "\n",
            "[5 rows x 44 columns]\n"
          ]
        }
      ]
    },
    {
      "cell_type": "code",
      "source": [
        "# Display summary statistics\n",
        "print(train_df.describe(include='all'))"
      ],
      "metadata": {
        "colab": {
          "base_uri": "https://localhost:8080/"
        },
        "id": "I4nMkRCYGriI",
        "outputId": "59ef60e9-9f60-457f-9de1-3f0937031460"
      },
      "execution_count": null,
      "outputs": [
        {
          "output_type": "stream",
          "name": "stdout",
          "text": [
            "        Basvuru Yili  Degerlendirme Puani Cinsiyet Dogum Tarihi Dogum Yeri  \\\n",
            "count   65125.000000         65124.000000    64956        64948      64334   \n",
            "unique           NaN                  NaN        4        13498       2230   \n",
            "top              NaN                  NaN    Kadın  1/1/70 2:00   İstanbul   \n",
            "freq             NaN                  NaN    32077         1655       8682   \n",
            "mean     2018.277298            32.086466      NaN          NaN        NaN   \n",
            "std         2.669979            18.139239      NaN          NaN        NaN   \n",
            "min      2014.000000             0.000000      NaN          NaN        NaN   \n",
            "25%      2016.000000            18.000000      NaN          NaN        NaN   \n",
            "50%      2019.000000            29.000000      NaN          NaN        NaN   \n",
            "75%      2021.000000            44.000000      NaN          NaN        NaN   \n",
            "max      2022.000000           102.000000      NaN          NaN        NaN   \n",
            "\n",
            "       Ikametgah Sehri         Universite Adi Universite Turu  \\\n",
            "count            63088                  64993           64870   \n",
            "unique             319                    527               4   \n",
            "top           İstanbul  İSTANBUL ÜNİVERSİTESİ          Devlet   \n",
            "freq             16625                   2083           37885   \n",
            "mean               NaN                    NaN             NaN   \n",
            "std                NaN                    NaN             NaN   \n",
            "min                NaN                    NaN             NaN   \n",
            "25%                NaN                    NaN             NaN   \n",
            "50%                NaN                    NaN             NaN   \n",
            "75%                NaN                    NaN             NaN   \n",
            "max                NaN                    NaN             NaN   \n",
            "\n",
            "        Burslu ise Burs Yuzdesi Burs Aliyor mu?  ...  \\\n",
            "count              22440.000000           65125  ...   \n",
            "unique                      NaN               5  ...   \n",
            "top                         NaN           Hayır  ...   \n",
            "freq                        NaN           51978  ...   \n",
            "mean                  34.226181             NaN  ...   \n",
            "std                   41.632412             NaN  ...   \n",
            "min                    0.000000             NaN  ...   \n",
            "25%                    0.000000             NaN  ...   \n",
            "50%                    0.000000             NaN  ...   \n",
            "75%                   75.000000             NaN  ...   \n",
            "max                  100.000000             NaN  ...   \n",
            "\n",
            "       Spor Dalindaki Rolunuz Nedir? Aktif olarak bir STK üyesi misiniz?  \\\n",
            "count                          32850                               52283   \n",
            "unique                             9                                   2   \n",
            "top                                0                               Hayır   \n",
            "freq                           11315                               37716   \n",
            "mean                             NaN                                 NaN   \n",
            "std                              NaN                                 NaN   \n",
            "min                              NaN                                 NaN   \n",
            "25%                              NaN                                 NaN   \n",
            "50%                              NaN                                 NaN   \n",
            "75%                              NaN                                 NaN   \n",
            "max                              NaN                                 NaN   \n",
            "\n",
            "       Hangi STK'nin Uyesisiniz? Stk Projesine Katildiniz Mi?  \\\n",
            "count                      15607                        36817   \n",
            "unique                      9490                            2   \n",
            "top                            -                        Hayır   \n",
            "freq                        2956                        19661   \n",
            "mean                         NaN                          NaN   \n",
            "std                          NaN                          NaN   \n",
            "min                          NaN                          NaN   \n",
            "25%                          NaN                          NaN   \n",
            "50%                          NaN                          NaN   \n",
            "75%                          NaN                          NaN   \n",
            "max                          NaN                          NaN   \n",
            "\n",
            "       Girisimcilikle Ilgili Deneyiminiz Var Mi?  \\\n",
            "count                                      52285   \n",
            "unique                                         2   \n",
            "top                                        Hayır   \n",
            "freq                                       33919   \n",
            "mean                                         NaN   \n",
            "std                                          NaN   \n",
            "min                                          NaN   \n",
            "25%                                          NaN   \n",
            "50%                                          NaN   \n",
            "75%                                          NaN   \n",
            "max                                          NaN   \n",
            "\n",
            "       Girisimcilikle Ilgili Deneyiminizi Aciklayabilir misiniz?  \\\n",
            "count                                               14599          \n",
            "unique                                               9286          \n",
            "top                                                     -          \n",
            "freq                                                 5196          \n",
            "mean                                                  NaN          \n",
            "std                                                   NaN          \n",
            "min                                                   NaN          \n",
            "25%                                                   NaN          \n",
            "50%                                                   NaN          \n",
            "75%                                                   NaN          \n",
            "max                                                   NaN          \n",
            "\n",
            "       Ingilizce Biliyor musunuz? Ingilizce Seviyeniz?  \\\n",
            "count                       58671                28592   \n",
            "unique                          2                    4   \n",
            "top                          Evet                 Orta   \n",
            "freq                        48872                13057   \n",
            "mean                          NaN                  NaN   \n",
            "std                           NaN                  NaN   \n",
            "min                           NaN                  NaN   \n",
            "25%                           NaN                  NaN   \n",
            "50%                           NaN                  NaN   \n",
            "75%                           NaN                  NaN   \n",
            "max                           NaN                  NaN   \n",
            "\n",
            "       Daha Önceden Mezun Olunduysa, Mezun Olunan Üniversite            id  \n",
            "count                                                 419     65125.000000  \n",
            "unique                                                168              NaN  \n",
            "top                                  Anadolu Üniversitesi              NaN  \n",
            "freq                                                   26              NaN  \n",
            "mean                                                  NaN     32562.000000  \n",
            "std                                                   NaN     18800.112478  \n",
            "min                                                   NaN         0.000000  \n",
            "25%                                                   NaN     16281.000000  \n",
            "50%                                                   NaN     32562.000000  \n",
            "75%                                                   NaN     48843.000000  \n",
            "max                                                   NaN     65124.000000  \n",
            "\n",
            "[11 rows x 44 columns]\n"
          ]
        }
      ]
    },
    {
      "cell_type": "code",
      "source": [
        "# Check for missing values\n",
        "print(train_df.isnull().sum())"
      ],
      "metadata": {
        "colab": {
          "base_uri": "https://localhost:8080/"
        },
        "id": "ZqfTmL-EGxos",
        "outputId": "8b0a309a-3996-4dc7-85ba-b82bea54979c"
      },
      "execution_count": null,
      "outputs": [
        {
          "output_type": "stream",
          "name": "stdout",
          "text": [
            "Basvuru Yili                                                     0\n",
            "Degerlendirme Puani                                              1\n",
            "Cinsiyet                                                       169\n",
            "Dogum Tarihi                                                   177\n",
            "Dogum Yeri                                                     791\n",
            "Ikametgah Sehri                                               2037\n",
            "Universite Adi                                                 132\n",
            "Universite Turu                                                255\n",
            "Burslu ise Burs Yuzdesi                                      42685\n",
            "Burs Aliyor mu?                                                  0\n",
            "Bölüm                                                          231\n",
            "Universite Kacinci Sinif                                       374\n",
            "Universite Not Ortalamasi                                     2753\n",
            "Daha Once Baska Bir Universiteden Mezun Olmus                37345\n",
            "Lise Adi                                                       384\n",
            "Lise Adi Diger                                               60392\n",
            "Lise Sehir                                                    1054\n",
            "Lise Turu                                                      847\n",
            "Lise Bolumu                                                   1009\n",
            "Lise Bolum Diger                                             63599\n",
            "Lise Mezuniyet Notu                                           5917\n",
            "Baska Bir Kurumdan Burs Aliyor mu?                             231\n",
            "Burs Aldigi Baska Kurum                                      43977\n",
            "Baska Kurumdan Aldigi Burs Miktari                           44162\n",
            "Anne Egitim Durumu                                             406\n",
            "Anne Calisma Durumu                                          11896\n",
            "Anne Sektor                                                  34537\n",
            "Baba Egitim Durumu                                            1007\n",
            "Baba Calisma Durumu                                          12618\n",
            "Baba Sektor                                                  20378\n",
            "Kardes Sayisi                                                 1132\n",
            "Girisimcilik Kulupleri Tarzi Bir Kulube Uye misiniz?          1829\n",
            "Uye Oldugunuz Kulubun Ismi                                   48691\n",
            "Profesyonel Bir Spor Daliyla Mesgul musunuz?                  1115\n",
            "Spor Dalindaki Rolunuz Nedir?                                32275\n",
            "Aktif olarak bir STK üyesi misiniz?                          12842\n",
            "Hangi STK'nin Uyesisiniz?                                    49518\n",
            "Stk Projesine Katildiniz Mi?                                 28308\n",
            "Girisimcilikle Ilgili Deneyiminiz Var Mi?                    12840\n",
            "Girisimcilikle Ilgili Deneyiminizi Aciklayabilir misiniz?    50526\n",
            "Ingilizce Biliyor musunuz?                                    6454\n",
            "Ingilizce Seviyeniz?                                         36533\n",
            "Daha Önceden Mezun Olunduysa, Mezun Olunan Üniversite        64706\n",
            "id                                                               0\n",
            "dtype: int64\n"
          ]
        }
      ]
    },
    {
      "cell_type": "code",
      "source": [
        "# Fill missing values for categorical columns with mode\n",
        "categorical_cols = train_df.select_dtypes(include=['object']).columns\n",
        "for col in categorical_cols:\n",
        "    if col in train_df.columns and train_df[col].isnull().sum() > 0:\n",
        "        mode_value = train_df[col].mode()[0]  # Get the mode\n",
        "        train_df[col] = train_df[col].fillna(mode_value)\n",
        "\n",
        "# Fill missing values for numerical columns with median\n",
        "numerical_cols = train_df.select_dtypes(include=['float64', 'int64']).columns\n",
        "for col in numerical_cols:\n",
        "    if col in train_df.columns and train_df[col].isnull().sum() > 0:\n",
        "        median_value = train_df[col].median()  # Get the median\n",
        "        train_df[col] = train_df[col].fillna(median_value)\n",
        "\n",
        "# Special case for columns with a lot of missing values\n",
        "# For example, 'Burslu ise Burs Yuzdesi' has a significant number of missing values\n",
        "# Consider dropping this column if it's not critical or has too many missing values\n",
        "train_df = train_df.drop(columns=['Burslu ise Burs Yuzdesi', 'Lise Adi Diger', 'Lise Bolum Diger', 'Baska Kurumdan Aldigi Burs Miktari'])\n",
        "\n",
        "# Recheck for missing values\n",
        "print(train_df.isnull().sum())\n"
      ],
      "metadata": {
        "id": "VVpDeTo2WHT5",
        "colab": {
          "base_uri": "https://localhost:8080/"
        },
        "outputId": "62775cbf-9899-4fca-9c49-838de7b03a0a"
      },
      "execution_count": null,
      "outputs": [
        {
          "output_type": "stream",
          "name": "stdout",
          "text": [
            "Basvuru Yili                                                 0\n",
            "Degerlendirme Puani                                          0\n",
            "Cinsiyet                                                     0\n",
            "Dogum Tarihi                                                 0\n",
            "Dogum Yeri                                                   0\n",
            "Ikametgah Sehri                                              0\n",
            "Universite Adi                                               0\n",
            "Universite Turu                                              0\n",
            "Burs Aliyor mu?                                              0\n",
            "Bölüm                                                        0\n",
            "Universite Kacinci Sinif                                     0\n",
            "Universite Not Ortalamasi                                    0\n",
            "Daha Once Baska Bir Universiteden Mezun Olmus                0\n",
            "Lise Adi                                                     0\n",
            "Lise Sehir                                                   0\n",
            "Lise Turu                                                    0\n",
            "Lise Bolumu                                                  0\n",
            "Lise Mezuniyet Notu                                          0\n",
            "Baska Bir Kurumdan Burs Aliyor mu?                           0\n",
            "Burs Aldigi Baska Kurum                                      0\n",
            "Anne Egitim Durumu                                           0\n",
            "Anne Calisma Durumu                                          0\n",
            "Anne Sektor                                                  0\n",
            "Baba Egitim Durumu                                           0\n",
            "Baba Calisma Durumu                                          0\n",
            "Baba Sektor                                                  0\n",
            "Kardes Sayisi                                                0\n",
            "Girisimcilik Kulupleri Tarzi Bir Kulube Uye misiniz?         0\n",
            "Uye Oldugunuz Kulubun Ismi                                   0\n",
            "Profesyonel Bir Spor Daliyla Mesgul musunuz?                 0\n",
            "Spor Dalindaki Rolunuz Nedir?                                0\n",
            "Aktif olarak bir STK üyesi misiniz?                          0\n",
            "Hangi STK'nin Uyesisiniz?                                    0\n",
            "Stk Projesine Katildiniz Mi?                                 0\n",
            "Girisimcilikle Ilgili Deneyiminiz Var Mi?                    0\n",
            "Girisimcilikle Ilgili Deneyiminizi Aciklayabilir misiniz?    0\n",
            "Ingilizce Biliyor musunuz?                                   0\n",
            "Ingilizce Seviyeniz?                                         0\n",
            "Daha Önceden Mezun Olunduysa, Mezun Olunan Üniversite        0\n",
            "id                                                           0\n",
            "dtype: int64\n"
          ]
        }
      ]
    },
    {
      "cell_type": "code",
      "source": [
        "binary_cols = [\n",
        "    'Burs Aliyor mu?',\n",
        "    'Baska Bir Kurumdan Burs Aliyor mu?',\n",
        "    'Anne Calisma Durumu',\n",
        "    'Baba Calisma Durumu',\n",
        "    'Girisimcilik Kulupleri Tarzi Bir Kulube Uye misiniz?',\n",
        "    'Profesyonel Bir Spor Daliyla Mesgul musunuz?',\n",
        "    'Aktif olarak bir STK üyesi misiniz?',\n",
        "    'Girisimcilikle Ilgili Deneyiminiz Var Mi?',\n",
        "    'Ingilizce Biliyor musunuz?'\n",
        "]\n",
        "\n",
        "for col in binary_cols:\n",
        "    if col in train_df.columns:\n",
        "        # Check unique values\n",
        "        print(f\"Unique values in '{col}':\", train_df[col].unique())\n",
        "\n",
        "        # Fill NaN values with 'Unknown' and map values\n",
        "        train_df[col] = train_df[col].fillna('Unknown').astype(str).map({'Evet': 1, 'Hayır': 0, 'Unknown': -1})"
      ],
      "metadata": {
        "id": "c2aHTFYmXOKk",
        "colab": {
          "base_uri": "https://localhost:8080/"
        },
        "outputId": "8ef79a11-7f84-47dd-e81d-7229ad355d35"
      },
      "execution_count": null,
      "outputs": [
        {
          "output_type": "stream",
          "name": "stdout",
          "text": [
            "Unique values in 'Burs Aliyor mu?': ['Evet' 'Hayır' 'hayır' 'evet' 'EVET']\n",
            "Unique values in 'Baska Bir Kurumdan Burs Aliyor mu?': ['Hayır' 'Evet']\n",
            "Unique values in 'Anne Calisma Durumu': ['Hayır' 'Evet' 'Emekli']\n",
            "Unique values in 'Baba Calisma Durumu': ['Emekli' 'Evet' 'Hayır']\n",
            "Unique values in 'Girisimcilik Kulupleri Tarzi Bir Kulube Uye misiniz?': ['Evet' 'Hayır']\n",
            "Unique values in 'Profesyonel Bir Spor Daliyla Mesgul musunuz?': ['Evet' 'Hayır']\n",
            "Unique values in 'Aktif olarak bir STK üyesi misiniz?': ['Hayır' 'Evet']\n",
            "Unique values in 'Girisimcilikle Ilgili Deneyiminiz Var Mi?': ['Hayır' 'Evet']\n",
            "Unique values in 'Ingilizce Biliyor musunuz?': ['Evet' 'Hayır']\n"
          ]
        }
      ]
    },
    {
      "cell_type": "code",
      "source": [
        "train_df[\"Burs Aliyor mu?\"].head()"
      ],
      "metadata": {
        "colab": {
          "base_uri": "https://localhost:8080/",
          "height": 241
        },
        "id": "tNtk1JS9o_D0",
        "outputId": "fbef864b-0e7c-4558-c11c-d45f90113a8c"
      },
      "execution_count": null,
      "outputs": [
        {
          "output_type": "execute_result",
          "data": {
            "text/plain": [
              "0    1.0\n",
              "1    0.0\n",
              "2    0.0\n",
              "3    1.0\n",
              "4    1.0\n",
              "Name: Burs Aliyor mu?, dtype: float64"
            ],
            "text/html": [
              "<div>\n",
              "<style scoped>\n",
              "    .dataframe tbody tr th:only-of-type {\n",
              "        vertical-align: middle;\n",
              "    }\n",
              "\n",
              "    .dataframe tbody tr th {\n",
              "        vertical-align: top;\n",
              "    }\n",
              "\n",
              "    .dataframe thead th {\n",
              "        text-align: right;\n",
              "    }\n",
              "</style>\n",
              "<table border=\"1\" class=\"dataframe\">\n",
              "  <thead>\n",
              "    <tr style=\"text-align: right;\">\n",
              "      <th></th>\n",
              "      <th>Burs Aliyor mu?</th>\n",
              "    </tr>\n",
              "  </thead>\n",
              "  <tbody>\n",
              "    <tr>\n",
              "      <th>0</th>\n",
              "      <td>1.0</td>\n",
              "    </tr>\n",
              "    <tr>\n",
              "      <th>1</th>\n",
              "      <td>0.0</td>\n",
              "    </tr>\n",
              "    <tr>\n",
              "      <th>2</th>\n",
              "      <td>0.0</td>\n",
              "    </tr>\n",
              "    <tr>\n",
              "      <th>3</th>\n",
              "      <td>1.0</td>\n",
              "    </tr>\n",
              "    <tr>\n",
              "      <th>4</th>\n",
              "      <td>1.0</td>\n",
              "    </tr>\n",
              "  </tbody>\n",
              "</table>\n",
              "</div><br><label><b>dtype:</b> float64</label>"
            ]
          },
          "metadata": {},
          "execution_count": 8
        }
      ]
    },
    {
      "cell_type": "code",
      "source": [
        "# Define the transliteration function\n",
        "def transliterate_turkish(text):\n",
        "    # Mapping for Turkish to English transliteration\n",
        "    turkish_to_english = str.maketrans(\"üÜıIİğĞşŞçÇöÖ\", \"uUiIigGsScCoO\")\n",
        "    # Replace Turkish characters and convert to lowercase\n",
        "    text = text.translate(turkish_to_english)\n",
        "    text = text.lower().strip()\n",
        "    return text\n",
        "\n",
        "# Convert non-string values to strings before applying the function\n",
        "train_df = train_df.astype(str)\n",
        "\n",
        "# Apply the transliteration function to all columns\n",
        "train_df = train_df.map(transliterate_turkish)"
      ],
      "metadata": {
        "id": "9j92YZDKck_9"
      },
      "execution_count": null,
      "outputs": []
    },
    {
      "cell_type": "code",
      "source": [
        "import re\n",
        "\n",
        "def transliterate_turkish_and_expand(text):\n",
        "    # Replace common abbreviations with their full form\n",
        "    text = text.replace('muhendisligi', 'muh')\n",
        "    text = text.replace('-', ' ')\n",
        "\n",
        "    # Remove text inside parentheses and the parentheses themselves\n",
        "    text = re.sub(r'\\(.*?\\)', '', text)\n",
        "\n",
        "    return text.strip()\n",
        "\n",
        "# Convert non-string values to strings and apply the function to the 'Bölüm' column\n",
        "train_df['Bölüm'] = train_df['Bölüm'].astype(str).apply(transliterate_turkish_and_expand)"
      ],
      "metadata": {
        "id": "eoCc9EjelsV3"
      },
      "execution_count": null,
      "outputs": []
    },
    {
      "cell_type": "code",
      "source": [
        "train_df[\"Burs Aliyor mu?\"].head()"
      ],
      "metadata": {
        "colab": {
          "base_uri": "https://localhost:8080/",
          "height": 241
        },
        "id": "NpPkRZWyoKI-",
        "outputId": "112be6a5-2e02-46db-90b0-0b691473b534"
      },
      "execution_count": null,
      "outputs": [
        {
          "output_type": "execute_result",
          "data": {
            "text/plain": [
              "0    1.0\n",
              "1    0.0\n",
              "2    0.0\n",
              "3    1.0\n",
              "4    1.0\n",
              "Name: Burs Aliyor mu?, dtype: object"
            ],
            "text/html": [
              "<div>\n",
              "<style scoped>\n",
              "    .dataframe tbody tr th:only-of-type {\n",
              "        vertical-align: middle;\n",
              "    }\n",
              "\n",
              "    .dataframe tbody tr th {\n",
              "        vertical-align: top;\n",
              "    }\n",
              "\n",
              "    .dataframe thead th {\n",
              "        text-align: right;\n",
              "    }\n",
              "</style>\n",
              "<table border=\"1\" class=\"dataframe\">\n",
              "  <thead>\n",
              "    <tr style=\"text-align: right;\">\n",
              "      <th></th>\n",
              "      <th>Burs Aliyor mu?</th>\n",
              "    </tr>\n",
              "  </thead>\n",
              "  <tbody>\n",
              "    <tr>\n",
              "      <th>0</th>\n",
              "      <td>1.0</td>\n",
              "    </tr>\n",
              "    <tr>\n",
              "      <th>1</th>\n",
              "      <td>0.0</td>\n",
              "    </tr>\n",
              "    <tr>\n",
              "      <th>2</th>\n",
              "      <td>0.0</td>\n",
              "    </tr>\n",
              "    <tr>\n",
              "      <th>3</th>\n",
              "      <td>1.0</td>\n",
              "    </tr>\n",
              "    <tr>\n",
              "      <th>4</th>\n",
              "      <td>1.0</td>\n",
              "    </tr>\n",
              "  </tbody>\n",
              "</table>\n",
              "</div><br><label><b>dtype:</b> object</label>"
            ]
          },
          "metadata": {},
          "execution_count": 11
        }
      ]
    },
    {
      "cell_type": "code",
      "source": [
        "from sklearn.preprocessing import LabelEncoder\n",
        "\n",
        "label_cols = [\n",
        "    'Cinsiyet', 'Dogum Yeri', 'Ikametgah Sehri', 'Universite Adi', 'Universite Turu', 'Bölüm',\n",
        "    'Daha Once Baska Bir Universiteden Mezun Olmus', 'Lise Adi', 'Lise Sehir', 'Lise Turu',\n",
        "    'Lise Bolumu', 'Baska Bir Kurumdan Burs Aliyor mu?', 'Burs Aldigi Baska Kurum',\n",
        "    'Anne Egitim Durumu', 'Baba Egitim Durumu', 'Anne Sektor', 'Baba Sektor',\n",
        "    'Girisimcilik Kulupleri Tarzi Bir Kulube Uye misiniz?', 'Uye Oldugunuz Kulubun Ismi',\n",
        "    'Spor Dalindaki Rolunuz Nedir?', \"Hangi STK'nin Uyesisiniz?\",\n",
        "    'Girisimcilikle Ilgili Deneyiminizi Aciklayabilir misiniz?', 'Ingilizce Seviyeniz?',\n",
        "    'Daha Önceden Mezun Olunduysa, Mezun Olunan Üniversite'\n",
        "]\n",
        "\n",
        "le = LabelEncoder()\n",
        "for col in label_cols:\n",
        "    if col in train_df.columns:\n",
        "        train_df[col] = train_df[col].astype(str)\n",
        "        train_df[col] = le.fit_transform(train_df[col])\n"
      ],
      "metadata": {
        "id": "4Cge40yq-Puj"
      },
      "execution_count": null,
      "outputs": []
    },
    {
      "cell_type": "code",
      "source": [
        "# Dictionary to map Turkish month names to numeric values\n",
        "month_mapping = {\n",
        "    'Ocak': 1, 'Şubat': 2, 'Mart': 3, 'Nisan': 4, 'Mayis': 5, 'Haziran': 6,\n",
        "    'Temmuz': 7, 'Ağustos': 8, 'Eylül': 9, 'Ekim': 10, 'Kasım': 11, 'Aralık': 12, 'Kasim' : 11\n",
        "}\n",
        "# Function to replace Turkish month names with numeric values\n",
        "def replace_month_names(date_str):\n",
        "    for month_name, month_number in month_mapping.items():\n",
        "        if month_name in date_str:\n",
        "            return date_str.replace(month_name, str(month_number))\n",
        "    return date_str\n",
        "\n",
        "# Apply the function to the 'Dogum Tarihi' column\n",
        "train_df['Dogum Tarihi'] = train_df['Dogum Tarihi'].apply(lambda x: replace_month_names(str(x)) if pd.notna(x) else x)\n",
        "\n",
        "# Convert 'Dogum Tarihi' to datetime\n",
        "train_df['Dogum Tarihi'] = pd.to_datetime(train_df['Dogum Tarihi'], errors='coerce')\n",
        "\n",
        "# Extract year, month, and day as separate features\n",
        "train_df['Birth_Year'] = train_df['Dogum Tarihi'].dt.year\n",
        "train_df['Birth_Month'] = train_df['Dogum Tarihi'].dt.month\n",
        "train_df['Birth_Day'] = train_df['Dogum Tarihi'].dt.day\n",
        "\n",
        "# Create a placeholder date, e.g., the median year, month, and day\n",
        "median_year = train_df['Birth_Year'].median()\n",
        "median_month = train_df['Birth_Month'].median()\n",
        "median_day = train_df['Birth_Day'].median()\n",
        "\n",
        "# Fill missing values with placeholders\n",
        "train_df['Birth_Year'].fillna(median_year, inplace=True)\n",
        "train_df['Birth_Month'].fillna(median_month, inplace=True)\n",
        "train_df['Birth_Day'].fillna(median_day, inplace=True)"
      ],
      "metadata": {
        "id": "4Zxxigw-Iwyr"
      },
      "execution_count": null,
      "outputs": []
    },
    {
      "cell_type": "code",
      "source": [
        "print(train_df.isnull().sum())"
      ],
      "metadata": {
        "colab": {
          "base_uri": "https://localhost:8080/"
        },
        "id": "J1xx1ShIJdTw",
        "outputId": "715d18e2-c53f-44f9-ea19-3bcc6f873c57"
      },
      "execution_count": null,
      "outputs": [
        {
          "output_type": "stream",
          "name": "stdout",
          "text": [
            "Basvuru Yili                                                     0\n",
            "Degerlendirme Puani                                              0\n",
            "Cinsiyet                                                         0\n",
            "Dogum Tarihi                                                 45938\n",
            "Dogum Yeri                                                       0\n",
            "Ikametgah Sehri                                                  0\n",
            "Universite Adi                                                   0\n",
            "Universite Turu                                                  0\n",
            "Burs Aliyor mu?                                                  0\n",
            "Bölüm                                                            0\n",
            "Universite Kacinci Sinif                                         0\n",
            "Universite Not Ortalamasi                                        0\n",
            "Daha Once Baska Bir Universiteden Mezun Olmus                    0\n",
            "Lise Adi                                                         0\n",
            "Lise Sehir                                                       0\n",
            "Lise Turu                                                        0\n",
            "Lise Bolumu                                                      0\n",
            "Lise Mezuniyet Notu                                              0\n",
            "Baska Bir Kurumdan Burs Aliyor mu?                               0\n",
            "Burs Aldigi Baska Kurum                                          0\n",
            "Anne Egitim Durumu                                               0\n",
            "Anne Calisma Durumu                                              0\n",
            "Anne Sektor                                                      0\n",
            "Baba Egitim Durumu                                               0\n",
            "Baba Calisma Durumu                                              0\n",
            "Baba Sektor                                                      0\n",
            "Kardes Sayisi                                                    0\n",
            "Girisimcilik Kulupleri Tarzi Bir Kulube Uye misiniz?             0\n",
            "Uye Oldugunuz Kulubun Ismi                                       0\n",
            "Profesyonel Bir Spor Daliyla Mesgul musunuz?                     0\n",
            "Spor Dalindaki Rolunuz Nedir?                                    0\n",
            "Aktif olarak bir STK üyesi misiniz?                              0\n",
            "Hangi STK'nin Uyesisiniz?                                        0\n",
            "Stk Projesine Katildiniz Mi?                                     0\n",
            "Girisimcilikle Ilgili Deneyiminiz Var Mi?                        0\n",
            "Girisimcilikle Ilgili Deneyiminizi Aciklayabilir misiniz?        0\n",
            "Ingilizce Biliyor musunuz?                                       0\n",
            "Ingilizce Seviyeniz?                                             0\n",
            "Daha Önceden Mezun Olunduysa, Mezun Olunan Üniversite            0\n",
            "id                                                               0\n",
            "Birth_Year                                                       0\n",
            "Birth_Month                                                      0\n",
            "Birth_Day                                                        0\n",
            "dtype: int64\n"
          ]
        }
      ]
    },
    {
      "cell_type": "code",
      "source": [
        "# Drop the original 'Dogum Tarihi' column\n",
        "train_df = train_df.drop(columns=['Dogum Tarihi'])"
      ],
      "metadata": {
        "id": "Wu1OTUIJKqPz"
      },
      "execution_count": null,
      "outputs": []
    },
    {
      "cell_type": "code",
      "source": [
        "# Convert categorical columns to numeric using LabelEncoder if not done yet\n",
        "from sklearn.preprocessing import LabelEncoder\n",
        "\n",
        "categorical_cols = train_df.select_dtypes(include=['object']).columns\n",
        "le = LabelEncoder()\n",
        "\n",
        "for col in categorical_cols:\n",
        "    train_df[col] = train_df[col].astype(str)  # Convert to string first\n",
        "    train_df[col] = le.fit_transform(train_df[col])\n",
        "\n",
        "# Check for any non-numeric columns\n",
        "print(train_df.dtypes)"
      ],
      "metadata": {
        "colab": {
          "base_uri": "https://localhost:8080/"
        },
        "id": "WRUDAgUXI00t",
        "outputId": "507f755f-cbb2-4970-b4bf-23d2261f772c"
      },
      "execution_count": null,
      "outputs": [
        {
          "output_type": "stream",
          "name": "stdout",
          "text": [
            "Basvuru Yili                                                   int64\n",
            "Degerlendirme Puani                                            int64\n",
            "Cinsiyet                                                       int64\n",
            "Dogum Yeri                                                     int64\n",
            "Ikametgah Sehri                                                int64\n",
            "Universite Adi                                                 int64\n",
            "Universite Turu                                                int64\n",
            "Burs Aliyor mu?                                                int64\n",
            "Bölüm                                                          int64\n",
            "Universite Kacinci Sinif                                       int64\n",
            "Universite Not Ortalamasi                                      int64\n",
            "Daha Once Baska Bir Universiteden Mezun Olmus                  int64\n",
            "Lise Adi                                                       int64\n",
            "Lise Sehir                                                     int64\n",
            "Lise Turu                                                      int64\n",
            "Lise Bolumu                                                    int64\n",
            "Lise Mezuniyet Notu                                            int64\n",
            "Baska Bir Kurumdan Burs Aliyor mu?                             int64\n",
            "Burs Aldigi Baska Kurum                                        int64\n",
            "Anne Egitim Durumu                                             int64\n",
            "Anne Calisma Durumu                                            int64\n",
            "Anne Sektor                                                    int64\n",
            "Baba Egitim Durumu                                             int64\n",
            "Baba Calisma Durumu                                            int64\n",
            "Baba Sektor                                                    int64\n",
            "Kardes Sayisi                                                  int64\n",
            "Girisimcilik Kulupleri Tarzi Bir Kulube Uye misiniz?           int64\n",
            "Uye Oldugunuz Kulubun Ismi                                     int64\n",
            "Profesyonel Bir Spor Daliyla Mesgul musunuz?                   int64\n",
            "Spor Dalindaki Rolunuz Nedir?                                  int64\n",
            "Aktif olarak bir STK üyesi misiniz?                            int64\n",
            "Hangi STK'nin Uyesisiniz?                                      int64\n",
            "Stk Projesine Katildiniz Mi?                                   int64\n",
            "Girisimcilikle Ilgili Deneyiminiz Var Mi?                      int64\n",
            "Girisimcilikle Ilgili Deneyiminizi Aciklayabilir misiniz?      int64\n",
            "Ingilizce Biliyor musunuz?                                     int64\n",
            "Ingilizce Seviyeniz?                                           int64\n",
            "Daha Önceden Mezun Olunduysa, Mezun Olunan Üniversite          int64\n",
            "id                                                             int64\n",
            "Birth_Year                                                   float64\n",
            "Birth_Month                                                  float64\n",
            "Birth_Day                                                    float64\n",
            "dtype: object\n"
          ]
        }
      ]
    },
    {
      "cell_type": "code",
      "source": [
        "import xgboost as xgb\n",
        "from sklearn.metrics import mean_absolute_error, mean_squared_error\n",
        "from sklearn.model_selection import train_test_split\n",
        "\n",
        "# Split into training and validation sets\n",
        "X_train, X_val, y_train, y_val = train_test_split(X, y, test_size=0.2, random_state=42)\n",
        "\n",
        "# Define the XGBoost model with hyperparameters\n",
        "model = xgb.XGBRegressor(\n",
        "    random_state=42,\n",
        "    learning_rate=0.01,      # Learning rate\n",
        "    n_estimators=500,       # Number of trees\n",
        "    max_depth=5,            # Maximum depth of a tree\n",
        "    subsample=0.8,          # Subsample ratio of training instances\n",
        "    colsample_bytree=0.8,   # Subsample ratio of features per tree\n",
        "    min_child_weight=3,     # Minimum sum of instance weight (hessian) needed in a child\n",
        ")\n",
        "\n",
        "# Train the model\n",
        "model.fit(X_train, y_train)\n",
        "\n",
        "# Make predictions\n",
        "y_pred = model.predict(X_val)\n",
        "\n",
        "# Evaluate performance\n",
        "mae = mean_absolute_error(y_val, y_pred)\n",
        "mse = mean_squared_error(y_val, y_pred)\n",
        "\n",
        "print(f\"Mean Absolute Error: {mae}\")\n",
        "print(f\"Mean Squared Error: {mse}\")"
      ],
      "metadata": {
        "colab": {
          "base_uri": "https://localhost:8080/"
        },
        "id": "FwJbzkyCr49m",
        "outputId": "d2e72549-a453-49b5-e5ef-31152a24dc2b"
      },
      "execution_count": null,
      "outputs": [
        {
          "output_type": "stream",
          "name": "stdout",
          "text": [
            "Mean Absolute Error: 9.321096585945524\n",
            "Mean Squared Error: 201.1930468460872\n"
          ]
        }
      ]
    },
    {
      "cell_type": "code",
      "source": [
        "from sklearn.model_selection import cross_val_score\n",
        "\n",
        "# Cross-validation to get a better estimate of model performance\n",
        "cv_scores = cross_val_score(model, X, y, cv=5, scoring='neg_mean_absolute_error')\n",
        "\n",
        "# Print the average MAE from cross-validation\n",
        "print(f\"Cross-validated MAE: {-cv_scores.mean()}\")"
      ],
      "metadata": {
        "colab": {
          "base_uri": "https://localhost:8080/"
        },
        "id": "_VrwITkWraH1",
        "outputId": "a4b8de36-beca-4699-d003-9125834ef62a"
      },
      "execution_count": null,
      "outputs": [
        {
          "output_type": "stream",
          "name": "stdout",
          "text": [
            "Cross-validated MAE: 11.770938747764777\n"
          ]
        }
      ]
    },
    {
      "cell_type": "code",
      "source": [],
      "metadata": {
        "id": "xRr-S_yRrr_O"
      },
      "execution_count": null,
      "outputs": []
    }
  ]
}